{
 "cells": [
  {
   "cell_type": "code",
   "execution_count": 25,
   "metadata": {},
   "outputs": [],
   "source": [
    "from urllib.request import urlopen\n",
    "from urllib.error import HTTPError\n",
    "from urllib.error import URLError\n",
    "from bs4 import BeautifulSoup # make sure you already install the module"
   ]
  },
  {
   "cell_type": "code",
   "execution_count": 26,
   "metadata": {},
   "outputs": [
    {
     "output_type": "stream",
     "name": "stdout",
     "text": "<h1>An Interesting Title</h1>\n"
    }
   ],
   "source": [
    "# For example, I use this website as a test case from Python Web Scraping book\n",
    "# You can change and experiment to different website\n",
    "\n",
    "url = 'http://www.pythonscraping.com/pages/page1.html'\n",
    "html = urlopen(url)\n",
    "bs = BeautifulSoup(html.read(), 'html.parser')\n",
    "print(bs.h1)"
   ]
  },
  {
   "cell_type": "code",
   "execution_count": 27,
   "metadata": {},
   "outputs": [
    {
     "output_type": "stream",
     "name": "stdout",
     "text": "The server could not be found!\n"
    }
   ],
   "source": [
    "url = 'https://pythonscrapingthisurldoesnotexist.com' \n",
    "try:\n",
    "    html = urlopen(url)\n",
    "except HTTPError as e:\n",
    "    print('The server returned an HTTP error') # If the HTTP server is offline or error\n",
    "except URLError as e:\n",
    "    print('The server could not be found!') # If the website doesn's exist\n",
    "else:\n",
    "    print(html.read())"
   ]
  },
  {
   "cell_type": "code",
   "execution_count": 28,
   "metadata": {},
   "outputs": [
    {
     "output_type": "error",
     "ename": "FeatureNotFound",
     "evalue": "Couldn't find a tree builder with the features you requested: html5lib. Do you need to install a parser library?",
     "traceback": [
      "\u001b[1;31m---------------------------------------------------------------------------\u001b[0m",
      "\u001b[1;31mFeatureNotFound\u001b[0m                           Traceback (most recent call last)",
      "\u001b[1;32m<ipython-input-28-567025cd63c9>\u001b[0m in \u001b[0;36m<module>\u001b[1;34m\u001b[0m\n\u001b[0;32m     17\u001b[0m \u001b[1;33m\u001b[0m\u001b[0m\n\u001b[0;32m     18\u001b[0m \u001b[0murl\u001b[0m \u001b[1;33m=\u001b[0m \u001b[1;34m'http://www.pythonscraping.com/pages/page1.html'\u001b[0m\u001b[1;33m\u001b[0m\u001b[1;33m\u001b[0m\u001b[0m\n\u001b[1;32m---> 19\u001b[1;33m \u001b[0mtitle\u001b[0m \u001b[1;33m=\u001b[0m \u001b[0mgetTitle\u001b[0m\u001b[1;33m(\u001b[0m\u001b[0murl\u001b[0m\u001b[1;33m)\u001b[0m\u001b[1;33m\u001b[0m\u001b[1;33m\u001b[0m\u001b[0m\n\u001b[0m\u001b[0;32m     20\u001b[0m \u001b[1;32mif\u001b[0m \u001b[0mtitle\u001b[0m \u001b[1;33m==\u001b[0m \u001b[1;32mNone\u001b[0m\u001b[1;33m:\u001b[0m\u001b[1;33m\u001b[0m\u001b[1;33m\u001b[0m\u001b[0m\n\u001b[0;32m     21\u001b[0m     \u001b[0mprint\u001b[0m\u001b[1;33m(\u001b[0m\u001b[1;34m'Title could not be found'\u001b[0m\u001b[1;33m)\u001b[0m\u001b[1;33m\u001b[0m\u001b[1;33m\u001b[0m\u001b[0m\n",
      "\u001b[1;32m<ipython-input-28-567025cd63c9>\u001b[0m in \u001b[0;36mgetTitle\u001b[1;34m(url)\u001b[0m\n\u001b[0;32m      7\u001b[0m         \u001b[1;31m# Create BeautifulSoup object to read html page\u001b[0m\u001b[1;33m\u001b[0m\u001b[1;33m\u001b[0m\u001b[1;33m\u001b[0m\u001b[0m\n\u001b[0;32m      8\u001b[0m         \u001b[1;31m# Option: html.parser, lxml, lxml-xml, html5lib\u001b[0m\u001b[1;33m\u001b[0m\u001b[1;33m\u001b[0m\u001b[1;33m\u001b[0m\u001b[0m\n\u001b[1;32m----> 9\u001b[1;33m         \u001b[0mbsObj\u001b[0m \u001b[1;33m=\u001b[0m \u001b[0mBeautifulSoup\u001b[0m\u001b[1;33m(\u001b[0m\u001b[0mhtml\u001b[0m\u001b[1;33m.\u001b[0m\u001b[0mread\u001b[0m\u001b[1;33m(\u001b[0m\u001b[1;33m)\u001b[0m\u001b[1;33m,\u001b[0m \u001b[1;34m'html5lib'\u001b[0m\u001b[1;33m)\u001b[0m\u001b[1;33m\u001b[0m\u001b[1;33m\u001b[0m\u001b[0m\n\u001b[0m\u001b[0;32m     10\u001b[0m \u001b[1;33m\u001b[0m\u001b[0m\n\u001b[0;32m     11\u001b[0m         \u001b[1;31m# Only read the h1 tag\u001b[0m\u001b[1;33m\u001b[0m\u001b[1;33m\u001b[0m\u001b[1;33m\u001b[0m\u001b[0m\n",
      "\u001b[1;32m~\\AppData\\Local\\Programs\\Python\\Python37\\lib\\site-packages\\bs4\\__init__.py\u001b[0m in \u001b[0;36m__init__\u001b[1;34m(self, markup, features, builder, parse_only, from_encoding, exclude_encodings, element_classes, **kwargs)\u001b[0m\n\u001b[0;32m    226\u001b[0m                     \u001b[1;34m\"Couldn't find a tree builder with the features you \"\u001b[0m\u001b[1;33m\u001b[0m\u001b[1;33m\u001b[0m\u001b[0m\n\u001b[0;32m    227\u001b[0m                     \u001b[1;34m\"requested: %s. Do you need to install a parser library?\"\u001b[0m\u001b[1;33m\u001b[0m\u001b[1;33m\u001b[0m\u001b[0m\n\u001b[1;32m--> 228\u001b[1;33m                     % \",\".join(features))\n\u001b[0m\u001b[0;32m    229\u001b[0m \u001b[1;33m\u001b[0m\u001b[0m\n\u001b[0;32m    230\u001b[0m         \u001b[1;31m# At this point either we have a TreeBuilder instance in\u001b[0m\u001b[1;33m\u001b[0m\u001b[1;33m\u001b[0m\u001b[1;33m\u001b[0m\u001b[0m\n",
      "\u001b[1;31mFeatureNotFound\u001b[0m: Couldn't find a tree builder with the features you requested: html5lib. Do you need to install a parser library?"
     ]
    }
   ],
   "source": [
    "def getTitle(url):\n",
    "    try:\n",
    "        html = urlopen(url)\n",
    "    except HTTPError as e:\n",
    "        return None\n",
    "    try:\n",
    "        # Create BeautifulSoup object to read html page\n",
    "        # Option: html.parser, lxml, lxml-xml, html5lib\n",
    "        bsObj = BeautifulSoup(html.read(), 'html5lib') \n",
    "        \n",
    "        # Only read the h1 tag\n",
    "        title = bsObj.body.h1 \n",
    "    except AttributeError as e:\n",
    "        return None\n",
    "    return title\n",
    "\n",
    "\n",
    "url = 'http://www.pythonscraping.com/pages/page1.html'\n",
    "title = getTitle(url)\n",
    "if title == None:\n",
    "    print('Title could not be found')\n",
    "else:\n",
    "    print(title)"
   ]
  },
  {
   "cell_type": "code",
   "execution_count": 29,
   "metadata": {},
   "outputs": [],
   "source": [
    "url = 'http://www.pythonscraping.com/pages/warandpeace.html'\n",
    "html = urlopen(url)\n",
    "bs = BeautifulSoup(html, 'html.parser')"
   ]
  },
  {
   "cell_type": "code",
   "execution_count": 30,
   "metadata": {},
   "outputs": [
    {
     "output_type": "stream",
     "name": "stdout",
     "text": "Anna\nPavlovna Scherer\nEmpress Marya\nFedorovna\nPrince Vasili Kuragin\nAnna Pavlovna\nSt. Petersburg\nthe prince\nAnna Pavlovna\nAnna Pavlovna\nthe prince\nthe prince\nthe prince\nPrince Vasili\nAnna Pavlovna\nAnna Pavlovna\nthe prince\nWintzingerode\nKing of Prussia\nle Vicomte de Mortemart\nMontmorencys\nRohans\nAbbe Morio\nthe Emperor\nthe prince\nPrince Vasili\nDowager Empress Marya Fedorovna\nthe baron\nAnna Pavlovna\nthe Empress\nthe Empress\nAnna Pavlovna's\nHer Majesty\nBaron\nFunke\nThe prince\nAnna\nPavlovna\nthe Empress\nThe prince\nAnatole\nthe prince\nThe prince\nAnna\nPavlovna\nAnna Pavlovna\n"
    }
   ],
   "source": [
    "# Inspect the URL <'http://www.pythonscraping.com/pages/warandpeace.html'> so you can understand the following code\n",
    "nameList = bs.findAll('span', {'class': 'green'})\n",
    "for name in nameList:\n",
    "    print(name.get_text())"
   ]
  },
  {
   "cell_type": "code",
   "execution_count": 31,
   "metadata": {},
   "outputs": [
    {
     "output_type": "stream",
     "name": "stdout",
     "text": "[<h1>War and Peace</h1>, <h2>Chapter 1</h2>]\n"
    }
   ],
   "source": [
    "titles = bs.find_all(['h1', 'h2','h3','h4','h5','h6'])\n",
    "print([title for title in titles])"
   ]
  },
  {
   "cell_type": "code",
   "execution_count": 32,
   "metadata": {},
   "outputs": [
    {
     "output_type": "stream",
     "name": "stdout",
     "text": "[<span class=\"red\">Well, Prince, so Genoa and Lucca are now just family estates of the\nBuonapartes. But I warn you, if you don't tell me that this means war,\nif you still try to defend the infamies and horrors perpetrated by\nthat Antichrist- I really believe he is Antichrist- I will have\nnothing more to do with you and you are no longer my friend, no longer\nmy 'faithful slave,' as you call yourself! But how do you do? I see\nI have frightened you- sit down and tell me all the news.</span>, <span class=\"green\">Anna\nPavlovna Scherer</span>, <span class=\"green\">Empress Marya\nFedorovna</span>, <span class=\"green\">Prince Vasili Kuragin</span>, <span class=\"green\">Anna Pavlovna</span>, <span class=\"green\">St. Petersburg</span>, <span class=\"red\">If you have nothing better to do, Count [or Prince], and if the\nprospect of spending an evening with a poor invalid is not too\nterrible, I shall be very charmed to see you tonight between 7 and 10-\nAnnette Scherer.</span>, <span class=\"red\">Heavens! what a virulent attack!</span>, <span class=\"green\">the prince</span>, <span class=\"green\">Anna Pavlovna</span>, <span class=\"red\">First of all, dear friend, tell me how you are. Set your friend's\nmind at rest,</span>, <span class=\"red\">Can one be well while suffering morally? Can one be calm in times\nlike these if one has any feeling?</span>, <span class=\"green\">Anna Pavlovna</span>, <span class=\"red\">You are\nstaying the whole evening, I hope?</span>, <span class=\"red\">And the fete at the English ambassador's? Today is Wednesday. I\nmust put in an appearance there,</span>, <span class=\"green\">the prince</span>, <span class=\"red\">My daughter is\ncoming for me to take me there.</span>, <span class=\"red\">I thought today's fete had been canceled. I confess all these\nfestivities and fireworks are becoming wearisome.</span>, <span class=\"red\">If they had known that you wished it, the entertainment would\nhave been put off,</span>, <span class=\"green\">the prince</span>, <span class=\"red\">Don't tease! Well, and what has been decided about Novosiltsev's\ndispatch? You know everything.</span>, <span class=\"red\">What can one say about it?</span>, <span class=\"green\">the prince</span>, <span class=\"red\">What has been decided? They have decided that\nBuonaparte has burnt his boats, and I believe that we are ready to\nburn ours.</span>, <span class=\"green\">Prince Vasili</span>, <span class=\"green\">Anna Pavlovna</span>, <span class=\"green\">Anna Pavlovna</span>, <span class=\"red\">Oh, don't speak to me of Austria. Perhaps I don't understand\nthings, but Austria never has wished, and does not wish, for war.\nShe is betraying us! Russia alone must save Europe. Our gracious\nsovereign recognizes his high vocation and will be true to it. That is\nthe one thing I have faith in! Our good and wonderful sovereign has to\nperform the noblest role on earth, and he is so virtuous and noble\nthat God will not forsake him. He will fulfill his vocation and\ncrush the hydra of revolution, which has become more terrible than\never in the person of this murderer and villain! We alone must\navenge the blood of the just one.... Whom, I ask you, can we rely\non?... England with her commercial spirit will not and cannot\nunderstand the Emperor Alexander's loftiness of soul. She has\nrefused to evacuate Malta. She wanted to find, and still seeks, some\nsecret motive in our actions. What answer did Novosiltsev get? None.\nThe English have not understood and cannot understand the\nself-abnegation of our Emperor who wants nothing for himself, but only\ndesires the good of mankind. And what have they promised? Nothing! And\nwhat little they have promised they will not perform! Prussia has\nalways declared that Buonaparte is invincible, and that all Europe\nis powerless before him.... And I don't believe a word that Hardenburg\nsays, or Haugwitz either. This famous Prussian neutrality is just a\ntrap. I have faith only in God and the lofty destiny of our adored\nmonarch. He will save Europe!</span>, <span class=\"red\">I think,</span>, <span class=\"green\">the prince</span>, <span class=\"red\">that if you had been\nsent instead of our dear <span class=\"green\">Wintzingerode</span> you would have captured the\n<span class=\"green\">King of Prussia</span>'s consent by assault. You are so eloquent. Will you\ngive me a cup of tea?</span>, <span class=\"green\">Wintzingerode</span>, <span class=\"green\">King of Prussia</span>, <span class=\"red\">In a moment. A propos,</span>, <span class=\"red\">I am\nexpecting two very interesting men tonight, <span class=\"green\">le Vicomte de Mortemart</span>,\nwho is connected with the <span class=\"green\">Montmorencys</span> through the <span class=\"green\">Rohans</span>, one of\nthe best French families. He is one of the genuine emigres, the good\nones. And also the <span class=\"green\">Abbe Morio</span>. Do you know that profound thinker? He\nhas been received by <span class=\"green\">the Emperor</span>. Had you heard?</span>, <span class=\"green\">le Vicomte de Mortemart</span>, <span class=\"green\">Montmorencys</span>, <span class=\"green\">Rohans</span>, <span class=\"green\">Abbe Morio</span>, <span class=\"green\">the Emperor</span>, <span class=\"red\">I shall be delighted to meet them,</span>, <span class=\"green\">the prince</span>, <span class=\"red\">But tell me,</span>, <span class=\"red\">is it true that the Dowager Empress wants Baron Funke\nto be appointed first secretary at Vienna? The baron by all accounts\nis a poor creature.</span>, <span class=\"green\">Prince Vasili</span>, <span class=\"green\">Dowager Empress Marya Fedorovna</span>, <span class=\"green\">the baron</span>, <span class=\"green\">Anna Pavlovna</span>, <span class=\"green\">the Empress</span>, <span class=\"red\">Baron Funke has been recommended to the Dowager Empress by her\nsister,</span>, <span class=\"green\">the Empress</span>, <span class=\"green\">Anna Pavlovna's</span>, <span class=\"green\">Her Majesty</span>, <span class=\"green\">Baron\nFunke</span>, <span class=\"green\">The prince</span>, <span class=\"green\">Anna\nPavlovna</span>, <span class=\"green\">the Empress</span>, <span class=\"red\">Now about your family. Do you know that since your daughter came\nout everyone has been enraptured by her? They say she is amazingly\nbeautiful.</span>, <span class=\"green\">The prince</span>, <span class=\"red\">I often think,</span>, <span class=\"red\">I often think how unfairly sometimes the\njoys of life are distributed. Why has fate given you two such splendid\nchildren? I don't speak of <span class=\"green\">Anatole</span>, your youngest. I don't like\nhim,</span>, <span class=\"green\">Anatole</span>, <span class=\"red\">Two such charming children. And really you appreciate\nthem less than anyone, and so you don't deserve to have them.</span>, <span class=\"red\">I can't help it,</span>, <span class=\"green\">the prince</span>, <span class=\"red\">Lavater would have said I\nlack the bump of paternity.</span>, <span class=\"red\">Don't joke; I mean to have a serious talk with you. Do you know I\nam dissatisfied with your younger son? Between ourselves</span>, <span class=\"red\">he was mentioned at Her\nMajesty's and you were pitied....</span>, <span class=\"green\">The prince</span>, <span class=\"red\">What would you have me do?</span>, <span class=\"red\">You know I did all\na father could for their education, and they have both turned out\nfools. Hippolyte is at least a quiet fool, but Anatole is an active\none. That is the only difference between them.</span>, <span class=\"red\">And why are children born to such men as you? If you were not a\nfather there would be nothing I could reproach you with,</span>, <span class=\"green\">Anna\nPavlovna</span>, <span class=\"red\">I am your faithful slave and to you alone I can confess that my\nchildren are the bane of my life. It is the cross I have to bear. That\nis how I explain it to myself. It can't be helped!</span>, <span class=\"green\">Anna Pavlovna</span>]\n"
    }
   ],
   "source": [
    "allText = bs.find_all('span', {'class':{'green', 'red'}})\n",
    "\n",
    "# Store the text in a list\n",
    "text_list = [text for text in allText]\n",
    "print(text_list)"
   ]
  },
  {
   "cell_type": "code",
   "execution_count": 33,
   "metadata": {},
   "outputs": [
    {
     "output_type": "stream",
     "name": "stdout",
     "text": "[<span class=\"red\">Well, Prince, so Genoa and Lucca are now just family estates of the\nBuonapartes. But I warn you, if you don't tell me that this means war,\nif you still try to defend the infamies and horrors perpetrated by\nthat Antichrist- I really believe he is Antichrist- I will have\nnothing more to do with you and you are no longer my friend, no longer\nmy 'faithful slave,' as you call yourself! But how do you do? I see\nI have frightened you- sit down and tell me all the news.</span>, <span class=\"green\">Anna\nPavlovna Scherer</span>, <span class=\"green\">Empress Marya\nFedorovna</span>, <span class=\"green\">Prince Vasili Kuragin</span>, <span class=\"green\">Anna Pavlovna</span>, <span class=\"green\">St. Petersburg</span>, <span class=\"red\">If you have nothing better to do, Count [or Prince], and if the\nprospect of spending an evening with a poor invalid is not too\nterrible, I shall be very charmed to see you tonight between 7 and 10-\nAnnette Scherer.</span>, <span class=\"red\">Heavens! what a virulent attack!</span>, <span class=\"green\">the prince</span>, <span class=\"green\">Anna Pavlovna</span>, <span class=\"red\">First of all, dear friend, tell me how you are. Set your friend's\nmind at rest,</span>, <span class=\"red\">Can one be well while suffering morally? Can one be calm in times\nlike these if one has any feeling?</span>, <span class=\"green\">Anna Pavlovna</span>, <span class=\"red\">You are\nstaying the whole evening, I hope?</span>, <span class=\"red\">And the fete at the English ambassador's? Today is Wednesday. I\nmust put in an appearance there,</span>, <span class=\"green\">the prince</span>, <span class=\"red\">My daughter is\ncoming for me to take me there.</span>, <span class=\"red\">I thought today's fete had been canceled. I confess all these\nfestivities and fireworks are becoming wearisome.</span>, <span class=\"red\">If they had known that you wished it, the entertainment would\nhave been put off,</span>, <span class=\"green\">the prince</span>, <span class=\"red\">Don't tease! Well, and what has been decided about Novosiltsev's\ndispatch? You know everything.</span>, <span class=\"red\">What can one say about it?</span>, <span class=\"green\">the prince</span>, <span class=\"red\">What has been decided? They have decided that\nBuonaparte has burnt his boats, and I believe that we are ready to\nburn ours.</span>, <span class=\"green\">Prince Vasili</span>, <span class=\"green\">Anna Pavlovna</span>, <span class=\"green\">Anna Pavlovna</span>, <span class=\"red\">Oh, don't speak to me of Austria. Perhaps I don't understand\nthings, but Austria never has wished, and does not wish, for war.\nShe is betraying us! Russia alone must save Europe. Our gracious\nsovereign recognizes his high vocation and will be true to it. That is\nthe one thing I have faith in! Our good and wonderful sovereign has to\nperform the noblest role on earth, and he is so virtuous and noble\nthat God will not forsake him. He will fulfill his vocation and\ncrush the hydra of revolution, which has become more terrible than\never in the person of this murderer and villain! We alone must\navenge the blood of the just one.... Whom, I ask you, can we rely\non?... England with her commercial spirit will not and cannot\nunderstand the Emperor Alexander's loftiness of soul. She has\nrefused to evacuate Malta. She wanted to find, and still seeks, some\nsecret motive in our actions. What answer did Novosiltsev get? None.\nThe English have not understood and cannot understand the\nself-abnegation of our Emperor who wants nothing for himself, but only\ndesires the good of mankind. And what have they promised? Nothing! And\nwhat little they have promised they will not perform! Prussia has\nalways declared that Buonaparte is invincible, and that all Europe\nis powerless before him.... And I don't believe a word that Hardenburg\nsays, or Haugwitz either. This famous Prussian neutrality is just a\ntrap. I have faith only in God and the lofty destiny of our adored\nmonarch. He will save Europe!</span>, <span class=\"red\">I think,</span>, <span class=\"green\">the prince</span>, <span class=\"red\">that if you had been\nsent instead of our dear <span class=\"green\">Wintzingerode</span> you would have captured the\n<span class=\"green\">King of Prussia</span>'s consent by assault. You are so eloquent. Will you\ngive me a cup of tea?</span>, <span class=\"green\">Wintzingerode</span>, <span class=\"green\">King of Prussia</span>, <span class=\"red\">In a moment. A propos,</span>, <span class=\"red\">I am\nexpecting two very interesting men tonight, <span class=\"green\">le Vicomte de Mortemart</span>,\nwho is connected with the <span class=\"green\">Montmorencys</span> through the <span class=\"green\">Rohans</span>, one of\nthe best French families. He is one of the genuine emigres, the good\nones. And also the <span class=\"green\">Abbe Morio</span>. Do you know that profound thinker? He\nhas been received by <span class=\"green\">the Emperor</span>. Had you heard?</span>, <span class=\"green\">le Vicomte de Mortemart</span>, <span class=\"green\">Montmorencys</span>, <span class=\"green\">Rohans</span>, <span class=\"green\">Abbe Morio</span>, <span class=\"green\">the Emperor</span>, <span class=\"red\">I shall be delighted to meet them,</span>, <span class=\"green\">the prince</span>, <span class=\"red\">But tell me,</span>, <span class=\"red\">is it true that the Dowager Empress wants Baron Funke\nto be appointed first secretary at Vienna? The baron by all accounts\nis a poor creature.</span>, <span class=\"green\">Prince Vasili</span>, <span class=\"green\">Dowager Empress Marya Fedorovna</span>, <span class=\"green\">the baron</span>, <span class=\"green\">Anna Pavlovna</span>, <span class=\"green\">the Empress</span>, <span class=\"red\">Baron Funke has been recommended to the Dowager Empress by her\nsister,</span>, <span class=\"green\">the Empress</span>, <span class=\"green\">Anna Pavlovna's</span>, <span class=\"green\">Her Majesty</span>, <span class=\"green\">Baron\nFunke</span>, <span class=\"green\">The prince</span>, <span class=\"green\">Anna\nPavlovna</span>, <span class=\"green\">the Empress</span>, <span class=\"red\">Now about your family. Do you know that since your daughter came\nout everyone has been enraptured by her? They say she is amazingly\nbeautiful.</span>, <span class=\"green\">The prince</span>, <span class=\"red\">I often think,</span>, <span class=\"red\">I often think how unfairly sometimes the\njoys of life are distributed. Why has fate given you two such splendid\nchildren? I don't speak of <span class=\"green\">Anatole</span>, your youngest. I don't like\nhim,</span>, <span class=\"green\">Anatole</span>, <span class=\"red\">Two such charming children. And really you appreciate\nthem less than anyone, and so you don't deserve to have them.</span>, <span class=\"red\">I can't help it,</span>, <span class=\"green\">the prince</span>, <span class=\"red\">Lavater would have said I\nlack the bump of paternity.</span>, <span class=\"red\">Don't joke; I mean to have a serious talk with you. Do you know I\nam dissatisfied with your younger son? Between ourselves</span>, <span class=\"red\">he was mentioned at Her\nMajesty's and you were pitied....</span>, <span class=\"green\">The prince</span>, <span class=\"red\">What would you have me do?</span>, <span class=\"red\">You know I did all\na father could for their education, and they have both turned out\nfools. Hippolyte is at least a quiet fool, but Anatole is an active\none. That is the only difference between them.</span>, <span class=\"red\">And why are children born to such men as you? If you were not a\nfather there would be nothing I could reproach you with,</span>, <span class=\"green\">Anna\nPavlovna</span>, <span class=\"red\">I am your faithful slave and to you alone I can confess that my\nchildren are the bane of my life. It is the cross I have to bear. That\nis how I explain it to myself. It can't be helped!</span>, <span class=\"green\">Anna Pavlovna</span>]\n"
    }
   ],
   "source": [
    "title = bs.find_all(id='title', class_='text')\n",
    "title_text = [text for text in allText]\n",
    "print(title_text)"
   ]
  },
  {
   "cell_type": "code",
   "execution_count": 34,
   "metadata": {},
   "outputs": [
    {
     "output_type": "stream",
     "name": "stdout",
     "text": "\n\n<tr><th>\nItem Title\n</th><th>\nDescription\n</th><th>\nCost\n</th><th>\nImage\n</th></tr>\n\n\n<tr class=\"gift\" id=\"gift1\"><td>\nVegetable Basket\n</td><td>\nThis vegetable basket is the perfect gift for your health conscious (or overweight) friends!\n<span class=\"excitingNote\">Now with super-colorful bell peppers!</span>\n</td><td>\n$15.00\n</td><td>\n<img src=\"../img/gifts/img1.jpg\"/>\n</td></tr>\n\n\n<tr class=\"gift\" id=\"gift2\"><td>\nRussian Nesting Dolls\n</td><td>\nHand-painted by trained monkeys, these exquisite dolls are priceless! And by \"priceless,\" we mean \"extremely expensive\"! <span class=\"excitingNote\">8 entire dolls per set! Octuple the presents!</span>\n</td><td>\n$10,000.52\n</td><td>\n<img src=\"../img/gifts/img2.jpg\"/>\n</td></tr>\n\n\n<tr class=\"gift\" id=\"gift3\"><td>\nFish Painting\n</td><td>\nIf something seems fishy about this painting, it's because it's a fish! <span class=\"excitingNote\">Also hand-painted by trained monkeys!</span>\n</td><td>\n$10,005.00\n</td><td>\n<img src=\"../img/gifts/img3.jpg\"/>\n</td></tr>\n\n\n<tr class=\"gift\" id=\"gift4\"><td>\nDead Parrot\n</td><td>\nThis is an ex-parrot! <span class=\"excitingNote\">Or maybe he's only resting?</span>\n</td><td>\n$0.50\n</td><td>\n<img src=\"../img/gifts/img4.jpg\"/>\n</td></tr>\n\n\n<tr class=\"gift\" id=\"gift5\"><td>\nMystery Box\n</td><td>\nIf you love suprises, this mystery box is for you! Do not place on light-colored surfaces. May cause oil staining. <span class=\"excitingNote\">Keep your friends guessing!</span>\n</td><td>\n$1.50\n</td><td>\n<img src=\"../img/gifts/img6.jpg\"/>\n</td></tr>\n\n\n"
    }
   ],
   "source": [
    "url = 'http://www.pythonscraping.com/pages/page3.html'\n",
    "html = urlopen(url)\n",
    "bs = BeautifulSoup(html, 'html.parser')\n",
    "\n",
    "for child in bs.find('table',{'id':'giftList'}).children:\n",
    "    print(child)"
   ]
  },
  {
   "cell_type": "code",
   "execution_count": 35,
   "metadata": {},
   "outputs": [
    {
     "output_type": "stream",
     "name": "stdout",
     "text": "\n\n<tr class=\"gift\" id=\"gift1\"><td>\nVegetable Basket\n</td><td>\nThis vegetable basket is the perfect gift for your health conscious (or overweight) friends!\n<span class=\"excitingNote\">Now with super-colorful bell peppers!</span>\n</td><td>\n$15.00\n</td><td>\n<img src=\"../img/gifts/img1.jpg\"/>\n</td></tr>\n\n\n<tr class=\"gift\" id=\"gift2\"><td>\nRussian Nesting Dolls\n</td><td>\nHand-painted by trained monkeys, these exquisite dolls are priceless! And by \"priceless,\" we mean \"extremely expensive\"! <span class=\"excitingNote\">8 entire dolls per set! Octuple the presents!</span>\n</td><td>\n$10,000.52\n</td><td>\n<img src=\"../img/gifts/img2.jpg\"/>\n</td></tr>\n\n\n<tr class=\"gift\" id=\"gift3\"><td>\nFish Painting\n</td><td>\nIf something seems fishy about this painting, it's because it's a fish! <span class=\"excitingNote\">Also hand-painted by trained monkeys!</span>\n</td><td>\n$10,005.00\n</td><td>\n<img src=\"../img/gifts/img3.jpg\"/>\n</td></tr>\n\n\n<tr class=\"gift\" id=\"gift4\"><td>\nDead Parrot\n</td><td>\nThis is an ex-parrot! <span class=\"excitingNote\">Or maybe he's only resting?</span>\n</td><td>\n$0.50\n</td><td>\n<img src=\"../img/gifts/img4.jpg\"/>\n</td></tr>\n\n\n<tr class=\"gift\" id=\"gift5\"><td>\nMystery Box\n</td><td>\nIf you love suprises, this mystery box is for you! Do not place on light-colored surfaces. May cause oil staining. <span class=\"excitingNote\">Keep your friends guessing!</span>\n</td><td>\n$1.50\n</td><td>\n<img src=\"../img/gifts/img6.jpg\"/>\n</td></tr>\n\n\n"
    }
   ],
   "source": [
    "for sibling in bs.find('table', {'id':'giftList'}).tr.next_siblings:\n",
    "    print(sibling)"
   ]
  }
 ],
 "metadata": {
  "language_info": {
   "codemirror_mode": {
    "name": "ipython",
    "version": 3
   },
   "file_extension": ".py",
   "mimetype": "text/x-python",
   "name": "python",
   "nbconvert_exporter": "python",
   "pygments_lexer": "ipython3",
   "version": "3.7.6-final"
  },
  "orig_nbformat": 2,
  "kernelspec": {
   "name": "python37664bit0bc3693e0fa24426bc1efafbd0e631ed",
   "display_name": "Python 3.7.6 64-bit"
  }
 },
 "nbformat": 4,
 "nbformat_minor": 2
}